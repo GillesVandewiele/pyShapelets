{
 "cells": [
  {
   "cell_type": "code",
   "execution_count": 7,
   "metadata": {},
   "outputs": [],
   "source": [
    "from data.load_all_datasets import load_data\n",
    "from extractors.extractor import MultiGeneticExtractor\n",
    "import numpy as np\n",
    "import util\n",
    "from algorithms import ShapeletTransformer\n",
    "%matplotlib inline\n",
    "import matplotlib.pyplot as plt\n",
    "from mpl_toolkits.mplot3d import Axes3D\n",
    "from collections import Counter\n",
    "from scipy.stats import entropy\n",
    "from numpy.linalg import norm"
   ]
  },
  {
   "cell_type": "code",
   "execution_count": 2,
   "metadata": {},
   "outputs": [
    {
     "name": "stdout",
     "output_type": "stream",
     "text": [
      "Counter({1: 12, 3: 12, 0: 12, 4: 12, 2: 12})\n"
     ]
    }
   ],
   "source": [
    "data = sorted(load_data(), key=lambda x: x['n_samples']*x['n_features'])[6]\n",
    "\n",
    "X = data['data'].drop('target', axis=1)\n",
    "y = data['data'].loc[X.index, 'target']\n",
    "map_dict = {}\n",
    "for j, c in enumerate(np.unique(y)):\n",
    "    map_dict[c] = j\n",
    "y = y.map(map_dict)\n",
    "\n",
    "print(Counter(y))"
   ]
  },
  {
   "cell_type": "code",
   "execution_count": 3,
   "metadata": {},
   "outputs": [
    {
     "name": "stdout",
     "output_type": "stream",
     "text": [
      "it\t\tavg\t\tstd\t\tmax\t\ttime\n",
      "1\t\t0.39\t\t0.089\t\t0.566667\t22.4498\n",
      "2\t\t0.41\t\t0.085\t\t0.566667\t22.7869\n",
      "3\t\t0.4333\t\t0.055\t\t0.533333\t22.1169\n",
      "4\t\t0.4433\t\t0.051\t\t0.533333\t20.9349\n",
      "5\t\t0.4333\t\t0.026\t\t0.483333\t20.8764\n"
     ]
    }
   ],
   "source": [
    "extractor = MultiGeneticExtractor(population_size=5, iterations=100, verbose=True,\n",
    "                                  mutation_prob=0.25, crossover_prob=0.4, wait=5)\n",
    "\n",
    "shap_transformer = ShapeletTransformer(method=extractor, max_len=data['n_features']//2, nr_shapelets=3, metric='ig')\n",
    "shap_transformer.fit(X, y)\n",
    "X_distances = shap_transformer.transform(X)"
   ]
  },
  {
   "cell_type": "code",
   "execution_count": 8,
   "metadata": {},
   "outputs": [],
   "source": [
    "def jsd(P, Q):\n",
    "    _P = P / norm(P, ord=1)\n",
    "    _Q = Q / norm(Q, ord=1)\n",
    "    _M = 0.5 * (_P + _Q)\n",
    "    return 0.5 * (entropy(_P, _M) + entropy(_Q, _M))\n",
    "\n",
    "def jsd_mult(distributions):\n",
    "    normed_distributions = [dist / norm(dist, ord=1) for dist in distributions]\n",
    "    _M = 0.5 * (np.sum(normed_distributions, axis=0))\n",
    "    return 0.5 * sum([entropy(dist, _M) for dist in normed_distributions])"
   ]
  },
  {
   "cell_type": "markdown",
   "metadata": {},
   "source": [
    "# TODO: below are uni-variate cases, we want to calculate JSD on multi-variate PDFs!   ---> And still have one value!!!"
   ]
  },
  {
   "cell_type": "code",
   "execution_count": 5,
   "metadata": {},
   "outputs": [],
   "source": [
    "pos_distances = shap_transformer.transform(X.loc[y == 1, :])\n",
    "pos_x1 = pos_distances[:, 0]\n",
    "pos_x2 = pos_distances[:, 1]\n",
    "neg_distances = shap_transformer.transform(X.loc[y == 0, :])\n",
    "neg_x1 = neg_distances[:, 0]\n",
    "neg_x2 = neg_distances[:, 1]"
   ]
  },
  {
   "cell_type": "code",
   "execution_count": 9,
   "metadata": {},
   "outputs": [
    {
     "name": "stdout",
     "output_type": "stream",
     "text": [
      "[0.17017246 0.11744716 0.07554814]\n",
      "[0.17017246 0.11744716 0.07554814]\n",
      "0.15733286934102417\n",
      "0.11704715378460852\n",
      "0.07554596094837934\n"
     ]
    }
   ],
   "source": [
    "print(jsd_mult([shap_transformer.transform(X.loc[y == i, :]) for i in set(y)]))\n",
    "print(jsd_mult([shap_transformer.transform(X.loc[y == i, :]) for i in set(y)]))\n",
    "print(jsd_mult([shap_transformer.transform(X.loc[y == i])[:, 0] for i in set(y)]))\n",
    "print(jsd_mult([shap_transformer.transform(X.loc[y == i])[:, 1] for i in set(y)]))\n",
    "print(jsd_mult([shap_transformer.transform(X.loc[y == i])[:, 2] for i in set(y)]))\n",
    "\n",
    "# These are just the raw distances, not distributions... apply histogram or smth like that"
   ]
  },
  {
   "cell_type": "code",
   "execution_count": 167,
   "metadata": {},
   "outputs": [
    {
     "name": "stdout",
     "output_type": "stream",
     "text": [
      "0.0008643739022579398 0.705109340298956\n"
     ]
    },
    {
     "data": {
      "image/png": "[encoded data removed]",
      "text/plain": [
       "<matplotlib.figure.Figure at 0x7f1097614cc0>"
      ]
     },
     "metadata": {},
     "output_type": "display_data"
    },
    {
     "name": "stdout",
     "output_type": "stream",
     "text": [
      "0.1920591040854979\n"
     ]
    }
   ],
   "source": [
    "min_dist = min(list(pos_x1) + list(neg_x1))\n",
    "max_dist = max(list(pos_x1) + list(neg_x1))\n",
    "print(min_dist, max_dist)\n",
    "\n",
    "plt.hist(pos_x1, color='b', range=(min_dist, max_dist))\n",
    "plt.hist(neg_x1, color='r', range=(min_dist, max_dist))\n",
    "plt.show()\n",
    "\n",
    "print(jsd(\n",
    "    np.histogram(pos_x1, normed=True, range=(min_dist, max_dist))[0], \n",
    "    np.histogram(neg_x1, normed=True, range=(min_dist, max_dist))[0]\n",
    "))"
   ]
  },
  {
   "cell_type": "code",
   "execution_count": 168,
   "metadata": {},
   "outputs": [],
   "source": [
    "from scipy.stats import entropy\n",
    "from numpy.linalg import norm\n",
    "def jsd(P, Q):\n",
    "    _P = P / norm(P, ord=1)\n",
    "    _Q = Q / norm(Q, ord=1)\n",
    "    _M = 0.5 * (_P + _Q)\n",
    "    return 0.5 * (entropy(_P, _M) + entropy(_Q, _M))"
   ]
  },
  {
   "cell_type": "code",
   "execution_count": 169,
   "metadata": {},
   "outputs": [
    {
     "name": "stdout",
     "output_type": "stream",
     "text": [
      "0.0 0.35721450063535015\n"
     ]
    },
    {
     "data": {
      "image/png": "[encoded data removed]",
      "text/plain": [
       "<matplotlib.figure.Figure at 0x7f10976c4128>"
      ]
     },
     "metadata": {},
     "output_type": "display_data"
    },
    {
     "name": "stdout",
     "output_type": "stream",
     "text": [
      "0.35289610850880393\n"
     ]
    }
   ],
   "source": [
    "min_dist = min(list(pos_x2) + list(neg_x2))\n",
    "max_dist = max(list(pos_x2) + list(neg_x2))\n",
    "print(min_dist, max_dist)\n",
    "\n",
    "\n",
    "plt.hist(pos_x2, color='b', range=(min_dist, max_dist))\n",
    "plt.hist(neg_x2, color='r', range=(min_dist, max_dist))\n",
    "plt.show()\n",
    "\n",
    "print(jsd(\n",
    "    np.histogram(pos_x2, range=(min_dist, max_dist))[0], \n",
    "    np.histogram(neg_x2, range=(min_dist, max_dist))[0]\n",
    "))"
   ]
  },
  {
   "cell_type": "code",
   "execution_count": 170,
   "metadata": {},
   "outputs": [],
   "source": [
    "rand_shap = np.random.normal(size=25)\n",
    "shap_transformer.shapelets = [\n",
    "    rand_shap,\n",
    "    list(rand_shap) + list(np.random.normal(size=5))\n",
    "]"
   ]
  },
  {
   "cell_type": "code",
   "execution_count": 171,
   "metadata": {},
   "outputs": [],
   "source": [
    "pos_distances = shap_transformer.transform(X.loc[y == 1, :]) - 1\n",
    "pos_x1 = pos_distances[:, 0]\n",
    "pos_x2 = pos_distances[:, 1]\n",
    "neg_distances = shap_transformer.transform(X.loc[y == 0, :]) - 1\n",
    "neg_x1 = neg_distances[:, 0]\n",
    "neg_x2 = neg_distances[:, 1]"
   ]
  },
  {
   "cell_type": "code",
   "execution_count": 172,
   "metadata": {},
   "outputs": [
    {
     "name": "stdout",
     "output_type": "stream",
     "text": [
      "0.06246381299231829 0.16972944951099156\n"
     ]
    },
    {
     "data": {
      "image/png": "[encoded data removed]",
      "text/plain": [
       "<matplotlib.figure.Figure at 0x7f1097a4ac88>"
      ]
     },
     "metadata": {},
     "output_type": "display_data"
    },
    {
     "name": "stdout",
     "output_type": "stream",
     "text": [
      "0.20458259651504718\n"
     ]
    }
   ],
   "source": [
    "min_dist = min(list(pos_x1) + list(neg_x1))\n",
    "max_dist = max(list(pos_x1) + list(neg_x1))\n",
    "print(min_dist, max_dist)\n",
    "plt.hist(pos_x1, color='b', normed=True, range=(min_dist, max_dist))\n",
    "plt.hist(neg_x1, color='r', normed=True, range=(min_dist, max_dist))\n",
    "plt.show()\n",
    "\n",
    "print(jsd(\n",
    "    np.histogram(pos_x1, normed=True, range=(min_dist, max_dist))[0], \n",
    "    np.histogram(neg_x1, normed=True, range=(min_dist, max_dist))[0]\n",
    "))"
   ]
  },
  {
   "cell_type": "code",
   "execution_count": 173,
   "metadata": {},
   "outputs": [
    {
     "data": {
      "image/png": "[encoded data removed]",
      "text/plain": [
       "<matplotlib.figure.Figure at 0x7f10979c9d30>"
      ]
     },
     "metadata": {},
     "output_type": "display_data"
    },
    {
     "name": "stdout",
     "output_type": "stream",
     "text": [
      "0.05035787155418883\n"
     ]
    }
   ],
   "source": [
    "min_dist = min(list(pos_x2) + list(neg_x2))\n",
    "max_dist = max(list(pos_x2) + list(neg_x2))\n",
    "plt.hist(pos_x2, color='b', normed=True, range=(min_dist, max_dist))\n",
    "plt.hist(neg_x2, color='r', normed=True, range=(min_dist, max_dist))\n",
    "plt.show()\n",
    "\n",
    "print(jsd(\n",
    "    np.histogram(pos_x2, normed=True, range=(min_dist, max_dist))[0], \n",
    "    np.histogram(neg_x2, normed=True, range=(min_dist, max_dist))[0]\n",
    "))"
   ]
  },
  {
   "cell_type": "code",
   "execution_count": null,
   "metadata": {},
   "outputs": [],
   "source": []
  },
  {
   "cell_type": "code",
   "execution_count": null,
   "metadata": {},
   "outputs": [],
   "source": []
  }
 ],
 "metadata": {
  "kernelspec": {
   "display_name": "Python 3",
   "language": "python",
   "name": "python3"
  },
  "language_info": {
   "codemirror_mode": {
    "name": "ipython",
    "version": 3
   },
   "file_extension": ".py",
   "mimetype": "text/x-python",
   "name": "python",
   "nbconvert_exporter": "python",
   "pygments_lexer": "ipython3",
   "version": "3.6.5"
  }
 },
 "nbformat": 4,
 "nbformat_minor": 2
}
