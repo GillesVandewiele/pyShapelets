{
 "cells": [
  {
   "cell_type": "code",
   "execution_count": 5,
   "metadata": {},
   "outputs": [],
   "source": [
    "import numpy as np"
   ]
  },
  {
   "cell_type": "code",
   "execution_count": 6,
   "metadata": {},
   "outputs": [],
   "source": [
    "x = [\n",
    "        [0.45838, 0.96394, 1.0044 , 0.6606 , 0.72127, 0.55949, 0.59994,\n",
    "         0.88305, 0.80216, 1.0651 , 1.1055 , 1.0044 ], \n",
    "        [-0.19934, -0.70591, -1.2125 , -1.5502 , -1.5502 , -1.4939 ,\n",
    "         -1.0999 , -0.93106, -0.25563,  1.1515 ]\n",
    "    ]\n",
    "y = [[[-1.49328338],\n",
    "       [-1.51186072],\n",
    "       [-1.45510268],\n",
    "       [-1.20409463],\n",
    "       [-0.61485664],\n",
    "       [ 0.25572728],\n",
    "       [ 0.96159507],\n",
    "       [ 1.23891082],\n",
    "       [ 1.19201077],\n",
    "       [ 0.96933207],\n",
    "       [ 0.69178622],\n",
    "       [ 0.5193033 ],\n",
    "       [ 0.51492403],\n",
    "       [ 0.52448811],\n",
    "       [ 0.46822727],\n",
    "       [ 0.44339224],\n",
    "       [ 0.49319491],\n",
    "       [ 0.55276298]], [[-1.29204946],\n",
    "       [-0.77512662],\n",
    "       [ 0.06426604],\n",
    "       [ 0.83187312],\n",
    "       [ 1.1748484 ],\n",
    "       [ 1.18167006],\n",
    "       [ 1.02222703],\n",
    "       [ 0.71767681],\n",
    "       [ 0.48535038],\n",
    "       [ 0.49494489],\n",
    "       [ 0.5707175 ],\n",
    "       [ 0.59782219],\n",
    "       [ 0.57914096],\n",
    "       [ 0.68888412],\n",
    "       [ 0.59095348],\n",
    "       [ 0.43379792],\n",
    "       [ 0.26425562],\n",
    "       [-0.11657846]], [[-0.78157267],\n",
    "       [-1.12467089],\n",
    "       [-1.31833695],\n",
    "       [-1.3950798 ],\n",
    "       [-1.34242497],\n",
    "       [-1.18330711],\n",
    "       [-0.78031497],\n",
    "       [-0.10402659],\n",
    "       [ 0.56325218],\n",
    "       [ 0.92808898],\n",
    "       [ 0.9670087 ],\n",
    "       [ 0.78899023],\n",
    "       [ 0.48705147],\n",
    "       [ 0.22587098],\n",
    "       [ 0.173207  ],\n",
    "       [ 0.24115402],\n",
    "       [ 0.36599246],\n",
    "       [ 0.51285308]], [[-1.32106928],\n",
    "       [-1.24095753],\n",
    "       [-1.05490628],\n",
    "       [-0.44396637],\n",
    "       [ 0.24949785],\n",
    "       [ 0.6592144 ],\n",
    "       [ 0.78861867],\n",
    "       [ 0.69897929],\n",
    "       [ 0.43191861],\n",
    "       [ 0.09684415],\n",
    "       [-0.05504954],\n",
    "       [-0.04327902],\n",
    "       [ 0.08825788],\n",
    "       [ 0.35144725],\n",
    "       [ 0.88235665],\n",
    "       [ 1.36991815],\n",
    "       [ 1.34270212],\n",
    "       [ 0.96453349]]]\n",
    "\n"
   ]
  },
  {
   "cell_type": "code",
   "execution_count": 7,
   "metadata": {},
   "outputs": [
    {
     "data": {
      "text/plain": [
       "[array([-1.49328338, -1.51186072, -1.45510268, -1.20409463, -0.61485664,\n",
       "         0.25572728,  0.96159507,  1.23891082,  1.19201077,  0.96933207,\n",
       "         0.69178622,  0.5193033 ,  0.51492403,  0.52448811,  0.46822727,\n",
       "         0.44339224,  0.49319491,  0.55276298]),\n",
       " array([-1.29204946, -0.77512662,  0.06426604,  0.83187312,  1.1748484 ,\n",
       "         1.18167006,  1.02222703,  0.71767681,  0.48535038,  0.49494489,\n",
       "         0.5707175 ,  0.59782219,  0.57914096,  0.68888412,  0.59095348,\n",
       "         0.43379792,  0.26425562, -0.11657846]),\n",
       " array([-0.78157267, -1.12467089, -1.31833695, -1.3950798 , -1.34242497,\n",
       "        -1.18330711, -0.78031497, -0.10402659,  0.56325218,  0.92808898,\n",
       "         0.9670087 ,  0.78899023,  0.48705147,  0.22587098,  0.173207  ,\n",
       "         0.24115402,  0.36599246,  0.51285308]),\n",
       " array([-1.32106928, -1.24095753, -1.05490628, -0.44396637,  0.24949785,\n",
       "         0.6592144 ,  0.78861867,  0.69897929,  0.43191861,  0.09684415,\n",
       "        -0.05504954, -0.04327902,  0.08825788,  0.35144725,  0.88235665,\n",
       "         1.36991815,  1.34270212,  0.96453349])]"
      ]
     },
     "execution_count": 7,
     "metadata": {},
     "output_type": "execute_result"
    }
   ],
   "source": [
    "y = [np.array(i).flatten() for i in y]\n",
    "y"
   ]
  },
  {
   "cell_type": "code",
   "execution_count": 8,
   "metadata": {},
   "outputs": [],
   "source": [
    "from tslearn.metrics import cdist_gak"
   ]
  },
  {
   "cell_type": "code",
   "execution_count": 10,
   "metadata": {},
   "outputs": [
    {
     "data": {
      "text/plain": [
       "(2, 4, array([[3.00923149e-07, 5.64620488e-04, 1.45928590e-09, 1.70297195e-05],\n",
       "        [7.20537350e-07, 1.47400765e-09, 2.70566038e-05, 4.10944396e-07]]))"
      ]
     },
     "execution_count": 10,
     "metadata": {},
     "output_type": "execute_result"
    }
   ],
   "source": [
    "len(x), len(y), cdist_gak(x, y)"
   ]
  },
  {
   "cell_type": "code",
   "execution_count": 40,
   "metadata": {},
   "outputs": [
    {
     "data": {
      "text/plain": [
       "(-0.45, 9.45, -1.685285, 1.2865849999999999)"
      ]
     },
     "execution_count": 40,
     "metadata": {},
     "output_type": "execute_result"
    },
    {
     "data": {
      "image/png": "[encoded data removed]",
      "text/plain": [
       "<matplotlib.figure.Figure at 0x7fa3f262cd30>"
      ]
     },
     "metadata": {},
     "output_type": "display_data"
    }
   ],
   "source": [
    "import matplotlib.pyplot as plt\n",
    "%matplotlib inline\n",
    "\n",
    "plt.plot(x[1], lw=5)\n",
    "plt.axis('off')"
   ]
  },
  {
   "cell_type": "code",
   "execution_count": 20,
   "metadata": {},
   "outputs": [],
   "source": [
    "sim_matrix = cdist_gak(x, y)"
   ]
  },
  {
   "cell_type": "code",
   "execution_count": 32,
   "metadata": {},
   "outputs": [
    {
     "data": {
      "text/plain": [
       "(1, 2)"
      ]
     },
     "execution_count": 32,
     "metadata": {},
     "output_type": "execute_result"
    }
   ],
   "source": [
    "np.argmax(sim_matrix[0, :]), np.argmax(sim_matrix[1, :])"
   ]
  },
  {
   "cell_type": "code",
   "execution_count": 41,
   "metadata": {},
   "outputs": [
    {
     "data": {
      "text/plain": [
       "(-0.55, 11.55, -0.4850794265, 1.0163038965)"
      ]
     },
     "execution_count": 41,
     "metadata": {},
     "output_type": "execute_result"
    },
    {
     "data": {
      "image/png": "[encoded data removed]",
      "text/plain": [
       "<matplotlib.figure.Figure at 0x7fa3f25f9588>"
      ]
     },
     "metadata": {},
     "output_type": "display_data"
    }
   ],
   "source": [
    "from tslearn.barycenters import euclidean_barycenter\n",
    "\n",
    "plt.plot(euclidean_barycenter([x[0], y[1]]), lw=5)\n",
    "plt.axis('off')"
   ]
  },
  {
   "cell_type": "code",
   "execution_count": 42,
   "metadata": {},
   "outputs": [
    {
     "data": {
      "text/plain": [
       "(-0.45, 9.45, -1.5982616195, 1.1654162095)"
      ]
     },
     "execution_count": 42,
     "metadata": {},
     "output_type": "execute_result"
    },
    {
     "data": {
      "image/png": "[encoded data removed]",
      "text/plain": [
       "<matplotlib.figure.Figure at 0x7fa3f26fe048>"
      ]
     },
     "metadata": {},
     "output_type": "display_data"
    }
   ],
   "source": [
    "from tslearn.barycenters import euclidean_barycenter\n",
    "\n",
    "plt.plot(euclidean_barycenter([x[1], y[2]]), lw=5)\n",
    "plt.axis('off')"
   ]
  },
  {
   "cell_type": "code",
   "execution_count": null,
   "metadata": {},
   "outputs": [],
   "source": []
  }
 ],
 "metadata": {
  "kernelspec": {
   "display_name": "Python 3",
   "language": "python",
   "name": "python3"
  },
  "language_info": {
   "codemirror_mode": {
    "name": "ipython",
    "version": 3
   },
   "file_extension": ".py",
   "mimetype": "text/x-python",
   "name": "python",
   "nbconvert_exporter": "python",
   "pygments_lexer": "ipython3",
   "version": "3.6.5"
  }
 },
 "nbformat": 4,
 "nbformat_minor": 2
}
